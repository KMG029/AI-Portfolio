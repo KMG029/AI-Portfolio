{
  "nbformat": 4,
  "nbformat_minor": 0,
  "metadata": {
    "colab": {
      "provenance": [],
      "authorship_tag": "ABX9TyOcEydpEFLaHMo/y8jrk7oZ",
      "include_colab_link": true
    },
    "kernelspec": {
      "name": "python3",
      "display_name": "Python 3"
    },
    "language_info": {
      "name": "python"
    }
  },
  "cells": [
    {
      "cell_type": "markdown",
      "metadata": {
        "id": "view-in-github",
        "colab_type": "text"
      },
      "source": [
        "<a href=\"https://colab.research.google.com/github/KMG029/AI-Portfolio/blob/main/Untitled0.ipynb\" target=\"_parent\"><img src=\"https://colab.research.google.com/assets/colab-badge.svg\" alt=\"Open In Colab\"/></a>"
      ]
    },
    {
      "cell_type": "code",
      "execution_count": null,
      "metadata": {
        "colab": {
          "base_uri": "https://localhost:8080/"
        },
        "id": "l0BCPnGvfScK",
        "outputId": "b71b8457-1498-404e-f7c2-19fe4b8bdb56"
      },
      "outputs": [
        {
          "output_type": "stream",
          "name": "stdout",
          "text": [
            "안녕하세요\n"
          ]
        }
      ],
      "source": [
        "# 예제 1-1 셀단위 코드입력/실행/주석\n",
        "print(\"안녕하세요\")"
      ]
    },
    {
      "cell_type": "code",
      "source": [
        "# 예제 1-2 셀단위 코드입력/실행/주석\n",
        "print(\"Hi\")"
      ],
      "metadata": {
        "colab": {
          "base_uri": "https://localhost:8080/"
        },
        "id": "q45iwclWiLeJ",
        "outputId": "01d3a1f6-d2f8-4d20-8533-9c39ac14662c"
      },
      "execution_count": null,
      "outputs": [
        {
          "output_type": "stream",
          "name": "stdout",
          "text": [
            "Hi\n"
          ]
        }
      ]
    },
    {
      "cell_type": "code",
      "source": [
        "# 예제 1-3 변수 입력 및 화면 출력\n",
        "a = 9\n",
        "b = 5"
      ],
      "metadata": {
        "id": "fSf817bqi3dp"
      },
      "execution_count": null,
      "outputs": []
    },
    {
      "cell_type": "code",
      "source": [
        "# 예제 1-4 사칙연산 화면에 출력하기\n",
        "print( a + b )       # 더하기\n",
        "print( a - b )       # 빼기\n",
        "print( a * b )       # 곱하기\n",
        "print( a / b )       # 나누-----기\n",
        "print( a // b )      # --나눈 몫\n",
        "print( a % b )       # 나눈 나머지\n"
      ],
      "metadata": {
        "colab": {
          "base_uri": "https://localhost:8080/"
        },
        "id": "zwqSjm51jIDB",
        "outputId": "f1f47abe-6680-477e-c3df-9d4ab5730f0f"
      },
      "execution_count": null,
      "outputs": [
        {
          "output_type": "stream",
          "name": "stdout",
          "text": [
            "14\n",
            "4\n",
            "45\n",
            "1.8\n",
            "1\n",
            "4\n"
          ]
        }
      ]
    },
    {
      "cell_type": "code",
      "source": [
        "# 예제 1-5 변수 여러 개 출력하기\n",
        "print('파이썬', '데이터분석입문', 'PlaywithData', '데이터수집')"
      ],
      "metadata": {
        "colab": {
          "base_uri": "https://localhost:8080/"
        },
        "id": "2UbXykDEkfcZ",
        "outputId": "b8bcd38d-696f-4b54-a8af-c28f86417935"
      },
      "execution_count": null,
      "outputs": [
        {
          "output_type": "stream",
          "name": "stdout",
          "text": [
            "파이썬 데이터분석입문 PlaywithData 데이터수집\n"
          ]
        }
      ]
    },
    {
      "cell_type": "code",
      "source": [
        "# 예제 1-6 변수 여러 개 출력하기\n",
        "print('귤', '사과', '배', sep = ' / ')"
      ],
      "metadata": {
        "colab": {
          "base_uri": "https://localhost:8080/"
        },
        "id": "vgbQ6a16l8Kq",
        "outputId": "011dd4d0-26c3-439b-87f9-2c2c8604d0ca"
      },
      "execution_count": null,
      "outputs": [
        {
          "output_type": "stream",
          "name": "stdout",
          "text": [
            "귤 / 사과 / 배\n"
          ]
        }
      ]
    },
    {
      "cell_type": "code",
      "source": [
        "# 예제 1-7 리스트 자료 입력\n",
        "print('1번', '2번', '3번', '4번', '5번', '6번', '7번', '8번', '9번', '10번')\n",
        "class_2_1 = ['1번', '2번', '3번', '4번', '5번', '6번', '7번', '8번', '9번', '10번']\n",
        "print(class_2_1)"
      ],
      "metadata": {
        "colab": {
          "base_uri": "https://localhost:8080/"
        },
        "id": "nBQR0pXCmz9V",
        "outputId": "5f5264b5-c086-4070-f17d-80b88ca20ff9"
      },
      "execution_count": null,
      "outputs": [
        {
          "output_type": "stream",
          "name": "stdout",
          "text": [
            "1번 2번 3번 4번 5번 6번 7번 8번 9번 10번\n",
            "['1번', '2번', '3번', '4번', '5번', '6번', '7번', '8번', '9번', '10번']\n"
          ]
        }
      ]
    },
    {
      "cell_type": "code",
      "source": [
        "# 예제 1-8 리스트 자료 내 원소 1개 선택하기: 인덱스 번호 활용\n",
        "k    =  ['a', 'b', 'c', 'd', 'e']\n",
        "#index    0    1    2    3    4\n",
        "#-index   -5    -4    -3    -2    -1\n",
        "\n",
        "print( k[1] )"
      ],
      "metadata": {
        "colab": {
          "base_uri": "https://localhost:8080/"
        },
        "id": "sx04iPggnz7p",
        "outputId": "86de080f-8810-4a85-ff29-d8c64eea8fc1"
      },
      "execution_count": null,
      "outputs": [
        {
          "output_type": "stream",
          "name": "stdout",
          "text": [
            "b\n"
          ]
        }
      ]
    },
    {
      "cell_type": "code",
      "source": [
        "# 예제 1-9 리스트 자료 구간별 글자 선택하기: 슬라이싱\n",
        "# list [인덱스시작번호: 끝 다음 번호]\n",
        "k    =  ['a', 'b', 'c', 'd', 'e']\n",
        "#index    0    1    2    3    4\n",
        "#-index   -5    -4    -3    -2    -1\n",
        "print( k[ 1 : 3 ] )\n",
        "print( k[ -4 : -2 ] )\n"
      ],
      "metadata": {
        "colab": {
          "base_uri": "https://localhost:8080/"
        },
        "id": "Wu3jyToepcKS",
        "outputId": "9226637b-5592-423c-fbef-7bc02872a0f1"
      },
      "execution_count": null,
      "outputs": [
        {
          "output_type": "stream",
          "name": "stdout",
          "text": [
            "['b', 'c']\n",
            "['b', 'c']\n"
          ]
        }
      ]
    },
    {
      "cell_type": "code",
      "source": [
        "# 예제 1-10 리스트 합치기: 리스트1 + 리스트2\n",
        "# A + B\n",
        "l1 = ['a']\n",
        "l2 = ['b', 'c', 'e']\n",
        "print(l1 + l2)\n",
        "print(l2 + l1)"
      ],
      "metadata": {
        "colab": {
          "base_uri": "https://localhost:8080/"
        },
        "id": "DM4C7WgutqnB",
        "outputId": "ab3399dc-6c9e-4f20-fea8-cd264eda939e"
      },
      "execution_count": null,
      "outputs": [
        {
          "output_type": "stream",
          "name": "stdout",
          "text": [
            "['a', 'b', 'c', 'e']\n",
            "['b', 'c', 'e', 'a']\n"
          ]
        }
      ]
    },
    {
      "cell_type": "code",
      "source": [
        "# 예제 1-11 리스트 추가하기(하나의 원소로 붙이기): 리스트1, append(리스트2)\n",
        "l1 = ['a']\n",
        "l2 = ['b', 'c', 'e']\n",
        "l1.append(l2)\n",
        "print(l1)"
      ],
      "metadata": {
        "colab": {
          "base_uri": "https://localhost:8080/"
        },
        "id": "YWi6A0lzvAK4",
        "outputId": "1ff8e242-9c7b-494d-967b-5bbb95f758c1"
      },
      "execution_count": null,
      "outputs": [
        {
          "output_type": "stream",
          "name": "stdout",
          "text": [
            "['a', ['b', 'c', 'e']]\n"
          ]
        }
      ]
    },
    {
      "cell_type": "code",
      "source": [
        "# 예제 1-12 반복문 활용하기\n",
        "fruits = ['바나나', '사과', '딸기', '배', '감']\n",
        "for fruit in fruits:\n",
        "    print(fruit)"
      ],
      "metadata": {
        "colab": {
          "base_uri": "https://localhost:8080/"
        },
        "id": "Oezn_M3zvnKo",
        "outputId": "dd719c10-46eb-4041-d4d9-7435858d763e"
      },
      "execution_count": null,
      "outputs": [
        {
          "output_type": "stream",
          "name": "stdout",
          "text": [
            "바나나\n",
            "사과\n",
            "딸기\n",
            "배\n",
            "감\n"
          ]
        }
      ]
    },
    {
      "cell_type": "code",
      "source": [
        "# 문제 과일의 개수 카운트\n",
        "fruits = ['바나나', '사과', '딸기', '배', '감']\n",
        "fruit_count = 0\n",
        "for fruit in fruits:\n",
        "    print(fruit)\n",
        "    fruit_count = fruit_count + 1\n",
        "print(\"과일의 총 개수:\", fruit_count)"
      ],
      "metadata": {
        "colab": {
          "base_uri": "https://localhost:8080/"
        },
        "id": "jIwuj4f5wi2h",
        "outputId": "2b01ac8a-7467-4ccc-ea15-bfc88fe1e9bb"
      },
      "execution_count": null,
      "outputs": [
        {
          "output_type": "stream",
          "name": "stdout",
          "text": [
            "바나나\n",
            "사과\n",
            "딸기\n",
            "배\n",
            "감\n",
            "과일의 총 개수: 5\n"
          ]
        }
      ]
    },
    {
      "cell_type": "code",
      "source": [
        "구구단 짜보기\n"
      ],
      "metadata": {
        "id": "SRq-SDzw7Hce"
      },
      "execution_count": null,
      "outputs": []
    }
  ]
}